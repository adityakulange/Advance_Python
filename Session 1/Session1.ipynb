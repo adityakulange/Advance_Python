{
 "cells": [
  {
   "cell_type": "markdown",
   "id": "f9c1e8ff",
   "metadata": {},
   "source": [
    "# Session1"
   ]
  },
  {
   "cell_type": "markdown",
   "id": "9e8ef210",
   "metadata": {},
   "source": [
    "- subheading1\n",
    "- subheading2"
   ]
  },
  {
   "cell_type": "code",
   "execution_count": 2,
   "id": "3ab924ed",
   "metadata": {},
   "outputs": [
    {
     "name": "stdout",
     "output_type": "stream",
     "text": [
      "Hello World\n"
     ]
    }
   ],
   "source": [
    "print(\"Hello World\")"
   ]
  },
  {
   "cell_type": "code",
   "execution_count": 1,
   "id": "23e3d93e",
   "metadata": {},
   "outputs": [
    {
     "name": "stdout",
     "output_type": "stream",
     "text": [
      "15\n"
     ]
    }
   ],
   "source": [
    "print(5+10)"
   ]
  },
  {
   "cell_type": "code",
   "execution_count": 1,
   "id": "4586d1df",
   "metadata": {},
   "outputs": [],
   "source": [
    "lst=[1,2,3,4,5,6,7,8]"
   ]
  },
  {
   "cell_type": "code",
   "execution_count": 2,
   "id": "9faa78fa",
   "metadata": {},
   "outputs": [
    {
     "data": {
      "text/plain": [
       "[1, 2, 3, 4, 5, 6, 7, 8]"
      ]
     },
     "execution_count": 2,
     "metadata": {},
     "output_type": "execute_result"
    }
   ],
   "source": [
    "lst"
   ]
  },
  {
   "cell_type": "code",
   "execution_count": 4,
   "id": "febee809",
   "metadata": {},
   "outputs": [
    {
     "name": "stdout",
     "output_type": "stream",
     "text": [
      "We are going to learn about function\n"
     ]
    }
   ],
   "source": [
    "print(\"We are going to learn about function\")"
   ]
  },
  {
   "cell_type": "code",
   "execution_count": 1,
   "id": "90dc2274",
   "metadata": {},
   "outputs": [],
   "source": [
    "dict={\n",
    "    \"Name\":\"Smith\",\n",
    "    \"age\":24,\n",
    "    \"salary\":50000\n",
    "}"
   ]
  },
  {
   "cell_type": "code",
   "execution_count": null,
   "id": "be6800fd",
   "metadata": {},
   "outputs": [
    {
     "data": {
      "text/plain": [
       "{'Name': 'Smith', 'age': 24, 'salary': 50000}"
      ]
     },
     "execution_count": 7,
     "metadata": {},
     "output_type": "execute_result"
    }
   ],
   "source": []
  }
 ],
 "metadata": {
  "kernelspec": {
   "display_name": "Python 3",
   "language": "python",
   "name": "python3"
  },
  "language_info": {
   "codemirror_mode": {
    "name": "ipython",
    "version": 3
   },
   "file_extension": ".py",
   "mimetype": "text/x-python",
   "name": "python",
   "nbconvert_exporter": "python",
   "pygments_lexer": "ipython3",
   "version": "3.13.7"
  }
 },
 "nbformat": 4,
 "nbformat_minor": 5
}
