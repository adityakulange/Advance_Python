{
 "cells": [
  {
   "cell_type": "markdown",
   "id": "c04adaa7",
   "metadata": {},
   "source": [
    "# Session 2"
   ]
  },
  {
   "cell_type": "markdown",
   "id": "bed775e6",
   "metadata": {},
   "source": []
  },
  {
   "cell_type": "markdown",
   "id": "f6643a90",
   "metadata": {},
   "source": [
    "- two types of function\n",
    "- 1)pre-defined function\n",
    "- 2)user defined function"
   ]
  },
  {
   "cell_type": "markdown",
   "id": "e5783571",
   "metadata": {},
   "source": [
    "- 1)pre defined function"
   ]
  },
  {
   "cell_type": "code",
   "execution_count": 7,
   "id": "96ce12f0",
   "metadata": {},
   "outputs": [
    {
     "data": {
      "text/plain": [
       "7"
      ]
     },
     "execution_count": 7,
     "metadata": {},
     "output_type": "execute_result"
    }
   ],
   "source": [
    "len(\"ETLHIVE\")"
   ]
  },
  {
   "cell_type": "code",
   "execution_count": 8,
   "id": "1b388d56",
   "metadata": {},
   "outputs": [
    {
     "data": {
      "text/plain": [
       "6"
      ]
     },
     "execution_count": 8,
     "metadata": {},
     "output_type": "execute_result"
    }
   ],
   "source": [
    "lst=[1,2,3,4,5,6]\n",
    "len(lst)"
   ]
  },
  {
   "cell_type": "markdown",
   "id": "1d61f157",
   "metadata": {},
   "source": [
    "# 2)User defined function"
   ]
  },
  {
   "cell_type": "markdown",
   "id": "122b174d",
   "metadata": {},
   "source": [
    "- two methods for creating a function\n",
    "- a) defining a function\n",
    "- b) calling a function"
   ]
  },
  {
   "cell_type": "code",
   "execution_count": 45,
   "id": "6ece9909",
   "metadata": {},
   "outputs": [],
   "source": [
    "# def function_name(parameter list):\n",
    "#     logical part"
   ]
  },
  {
   "cell_type": "code",
   "execution_count": 64,
   "id": "ca1221c6",
   "metadata": {},
   "outputs": [],
   "source": [
    "# defining a function\n",
    "def greet():\n",
    "    print(\"Welcome to ETLHIVE\")"
   ]
  },
  {
   "cell_type": "code",
   "execution_count": 65,
   "id": "70f6edab",
   "metadata": {},
   "outputs": [
    {
     "name": "stdout",
     "output_type": "stream",
     "text": [
      "Welcome to ETLHIVE\n",
      "Welcome to ETLHIVE\n",
      "Welcome to ETLHIVE\n"
     ]
    }
   ],
   "source": [
    "# calling a function\n",
    "greet()\n",
    "greet()\n",
    "greet()"
   ]
  },
  {
   "cell_type": "code",
   "execution_count": 66,
   "id": "42c08dc4",
   "metadata": {},
   "outputs": [],
   "source": [
    "# function with parameter \n",
    "def greet1(name):\n",
    "    print(f\"Welcome to ETLHIVE {name}\")"
   ]
  },
  {
   "cell_type": "code",
   "execution_count": 67,
   "id": "d35d41bd",
   "metadata": {},
   "outputs": [
    {
     "name": "stdout",
     "output_type": "stream",
     "text": [
      "Welcome to ETLHIVE Aditya\n"
     ]
    }
   ],
   "source": [
    "# calling\n",
    "greet1(\"Aditya\")"
   ]
  },
  {
   "cell_type": "code",
   "execution_count": 70,
   "id": "ed7d2706",
   "metadata": {},
   "outputs": [],
   "source": [
    "def multiplication(a,b):\n",
    "    print(f\"Multiplication of {a,b} is {a*b} \")"
   ]
  },
  {
   "cell_type": "code",
   "execution_count": 71,
   "id": "6659bc8f",
   "metadata": {},
   "outputs": [
    {
     "name": "stdout",
     "output_type": "stream",
     "text": [
      "Multiplication of (2, 3) is 6 \n"
     ]
    }
   ],
   "source": [
    "multiplication(2,3)"
   ]
  },
  {
   "cell_type": "code",
   "execution_count": 72,
   "id": "8040f232",
   "metadata": {},
   "outputs": [],
   "source": [
    "def add(a,b):\n",
    "    print(f\"Addition {a+b}\")"
   ]
  },
  {
   "cell_type": "code",
   "execution_count": 73,
   "id": "33a72e85",
   "metadata": {},
   "outputs": [
    {
     "name": "stdout",
     "output_type": "stream",
     "text": [
      "Addition 30\n"
     ]
    }
   ],
   "source": [
    "add(10,20)"
   ]
  },
  {
   "cell_type": "code",
   "execution_count": 46,
   "id": "0224f442",
   "metadata": {},
   "outputs": [],
   "source": [
    "# print table of any number \n",
    "def table(n):\n",
    "    for i in range(1,11):\n",
    "        print(n*i)"
   ]
  },
  {
   "cell_type": "markdown",
   "id": "610cae7b",
   "metadata": {},
   "source": []
  },
  {
   "cell_type": "code",
   "execution_count": 47,
   "id": "74c660a2",
   "metadata": {},
   "outputs": [
    {
     "name": "stdout",
     "output_type": "stream",
     "text": [
      "5\n",
      "10\n",
      "15\n",
      "20\n",
      "25\n",
      "30\n",
      "35\n",
      "40\n",
      "45\n",
      "50\n"
     ]
    }
   ],
   "source": [
    "table(5)"
   ]
  },
  {
   "cell_type": "code",
   "execution_count": 48,
   "id": "0639d193",
   "metadata": {},
   "outputs": [
    {
     "name": "stdout",
     "output_type": "stream",
     "text": [
      "2\n",
      "4\n",
      "6\n",
      "8\n",
      "10\n",
      "12\n",
      "14\n",
      "16\n",
      "18\n",
      "20\n"
     ]
    }
   ],
   "source": [
    "table(2)"
   ]
  },
  {
   "cell_type": "code",
   "execution_count": 49,
   "id": "fe74c018",
   "metadata": {},
   "outputs": [],
   "source": [
    "lst=[3,5,7,8,9,23,45,67]"
   ]
  },
  {
   "cell_type": "code",
   "execution_count": 50,
   "id": "f8675288",
   "metadata": {},
   "outputs": [],
   "source": [
    "def square(l):\n",
    "    for i in l:\n",
    "        print(i*i)"
   ]
  },
  {
   "cell_type": "code",
   "execution_count": 51,
   "id": "382515db",
   "metadata": {},
   "outputs": [
    {
     "name": "stdout",
     "output_type": "stream",
     "text": [
      "9\n",
      "25\n",
      "49\n",
      "64\n",
      "81\n",
      "529\n",
      "2025\n",
      "4489\n"
     ]
    }
   ],
   "source": [
    "square(lst)"
   ]
  },
  {
   "cell_type": "code",
   "execution_count": 52,
   "id": "abdd00d0",
   "metadata": {},
   "outputs": [],
   "source": [
    "def cube(n):\n",
    "    for i in n:\n",
    "        print(i*i*i)"
   ]
  },
  {
   "cell_type": "code",
   "execution_count": 53,
   "id": "d5f80927",
   "metadata": {},
   "outputs": [
    {
     "name": "stdout",
     "output_type": "stream",
     "text": [
      "27\n",
      "125\n",
      "343\n",
      "512\n",
      "729\n",
      "12167\n",
      "91125\n",
      "300763\n"
     ]
    }
   ],
   "source": [
    "cube(lst)"
   ]
  },
  {
   "cell_type": "code",
   "execution_count": 54,
   "id": "2357c8d0",
   "metadata": {},
   "outputs": [],
   "source": [
    "def cube(n):\n",
    "    print(f\"cube of a number {n} is {n*n*n}\")"
   ]
  },
  {
   "cell_type": "code",
   "execution_count": 55,
   "id": "13ba6e98",
   "metadata": {},
   "outputs": [
    {
     "name": "stdout",
     "output_type": "stream",
     "text": [
      "cube of a number 4 is 64\n"
     ]
    }
   ],
   "source": [
    "# calling a function\n",
    "cube(4)"
   ]
  },
  {
   "cell_type": "code",
   "execution_count": 56,
   "id": "c28e8fe6",
   "metadata": {},
   "outputs": [
    {
     "name": "stdout",
     "output_type": "stream",
     "text": [
      "cube of a number 9 is 729\n"
     ]
    }
   ],
   "source": [
    "cube(9)"
   ]
  },
  {
   "cell_type": "code",
   "execution_count": 57,
   "id": "bab866c7",
   "metadata": {},
   "outputs": [],
   "source": [
    "# with return\n",
    "def cal_square(n):\n",
    "    return n*n"
   ]
  },
  {
   "cell_type": "code",
   "execution_count": 58,
   "id": "0859f539",
   "metadata": {},
   "outputs": [],
   "source": [
    "result = cal_square(5)"
   ]
  },
  {
   "cell_type": "code",
   "execution_count": 59,
   "id": "06e543a5",
   "metadata": {},
   "outputs": [
    {
     "data": {
      "text/plain": [
       "25"
      ]
     },
     "execution_count": 59,
     "metadata": {},
     "output_type": "execute_result"
    }
   ],
   "source": [
    "result"
   ]
  },
  {
   "cell_type": "code",
   "execution_count": 74,
   "id": "d29e11f5",
   "metadata": {},
   "outputs": [],
   "source": [
    "def cube(n):\n",
    "    return f\"cube of a number {n} is {n*n*n}\""
   ]
  },
  {
   "cell_type": "code",
   "execution_count": 75,
   "id": "ffbfcb70",
   "metadata": {},
   "outputs": [],
   "source": [
    "result = cube(4)"
   ]
  },
  {
   "cell_type": "code",
   "execution_count": 76,
   "id": "7e2a4a74",
   "metadata": {},
   "outputs": [
    {
     "data": {
      "text/plain": [
       "'cube of a number 4 is 64'"
      ]
     },
     "execution_count": 76,
     "metadata": {},
     "output_type": "execute_result"
    }
   ],
   "source": [
    "result"
   ]
  },
  {
   "cell_type": "code",
   "execution_count": 77,
   "id": "a8d8fb07",
   "metadata": {},
   "outputs": [],
   "source": [
    "lst=[1,2,3,4,5,6]"
   ]
  },
  {
   "cell_type": "code",
   "execution_count": 82,
   "id": "3f5c9790",
   "metadata": {},
   "outputs": [],
   "source": [
    "def sum(lst):\n",
    "    s=0\n",
    "    for i in lst:\n",
    "        s=s+i\n",
    "    print(f\"Sum of all is {s}\")"
   ]
  },
  {
   "cell_type": "code",
   "execution_count": 83,
   "id": "9b50074e",
   "metadata": {},
   "outputs": [
    {
     "name": "stdout",
     "output_type": "stream",
     "text": [
      "Sum of all is 21\n"
     ]
    }
   ],
   "source": [
    "sum(lst)"
   ]
  },
  {
   "cell_type": "code",
   "execution_count": 89,
   "id": "cbe93311",
   "metadata": {},
   "outputs": [],
   "source": [
    "def multiplication(l):\n",
    "    s=1\n",
    "    for i in lst:\n",
    "        s=s*i\n",
    "    print(f\"Multiplication of all is {s}\")"
   ]
  },
  {
   "cell_type": "code",
   "execution_count": 90,
   "id": "0e036996",
   "metadata": {},
   "outputs": [
    {
     "name": "stdout",
     "output_type": "stream",
     "text": [
      "Multiplication of all is 720\n"
     ]
    }
   ],
   "source": [
    "multiplication(lst)"
   ]
  },
  {
   "cell_type": "code",
   "execution_count": null,
   "id": "471b6f63",
   "metadata": {},
   "outputs": [],
   "source": [
    "# Write a function in python to calculate hypotenuse of a right angled triangle\n",
    "# (AC)^2 = (AB)^2 + (BC)^2\n",
    "# c^2 = a^2 + b^2\n",
    "# c = (a^2 + b^2)^0.5"
   ]
  },
  {
   "cell_type": "code",
   "execution_count": 96,
   "id": "d644a9f1",
   "metadata": {},
   "outputs": [],
   "source": [
    "def hypo(a,b):\n",
    "    c= (a**2 + b**2)**0.5\n",
    "    print(f\"Hypotenuse of {a,b} is {c}\")"
   ]
  },
  {
   "cell_type": "code",
   "execution_count": 97,
   "id": "85765b9a",
   "metadata": {},
   "outputs": [
    {
     "name": "stdout",
     "output_type": "stream",
     "text": [
      "Hypotenuse of (4, 5) is 6.4031242374328485\n"
     ]
    }
   ],
   "source": [
    "hypo(4,5)"
   ]
  },
  {
   "cell_type": "code",
   "execution_count": 98,
   "id": "02a24a29",
   "metadata": {},
   "outputs": [],
   "source": [
    "# Write a function in python which takes 3 sides and determine 3 sides form triangle or not"
   ]
  },
  {
   "cell_type": "code",
   "execution_count": 105,
   "id": "b01eea11",
   "metadata": {},
   "outputs": [],
   "source": [
    "def verify_triangle(a,b,c):\n",
    "    if (a<b+c) and (b<a+c) and (c<b+a):\n",
    "        print(\"It is a triangle\")\n",
    "    else:\n",
    "        print(\"It is not a triangle\")\n"
   ]
  },
  {
   "cell_type": "code",
   "execution_count": 106,
   "id": "e01aed7f",
   "metadata": {},
   "outputs": [
    {
     "name": "stdout",
     "output_type": "stream",
     "text": [
      "It is not a triangle\n"
     ]
    }
   ],
   "source": [
    "verify_triangle(1,2,3)"
   ]
  },
  {
   "cell_type": "code",
   "execution_count": 107,
   "id": "8f40654c",
   "metadata": {},
   "outputs": [
    {
     "name": "stdout",
     "output_type": "stream",
     "text": [
      "It is a triangle\n"
     ]
    }
   ],
   "source": [
    "verify_triangle(3,4,5)"
   ]
  },
  {
   "cell_type": "code",
   "execution_count": 108,
   "id": "b2a7fcbc",
   "metadata": {},
   "outputs": [],
   "source": [
    "# Write a function to calculate a area of triangle when 3 sides are given"
   ]
  },
  {
   "cell_type": "code",
   "execution_count": 111,
   "id": "7ec13641",
   "metadata": {},
   "outputs": [],
   "source": [
    "def area_of_triangle(a,b,c):\n",
    "    s=(a+b+c)/2\n",
    "    Area=(s*(s-a)*(s-b)*(s-c))**0.5\n",
    "    print(f\"Area of triangle is {Area}\")\n"
   ]
  },
  {
   "cell_type": "code",
   "execution_count": 113,
   "id": "fff9de1c",
   "metadata": {},
   "outputs": [
    {
     "name": "stdout",
     "output_type": "stream",
     "text": [
      "Area of triangle is 87.74964387392122\n"
     ]
    }
   ],
   "source": [
    "area_of_triangle(15,17,12)"
   ]
  },
  {
   "cell_type": "code",
   "execution_count": null,
   "id": "22608567",
   "metadata": {},
   "outputs": [],
   "source": []
  }
 ],
 "metadata": {
  "kernelspec": {
   "display_name": "Python 3",
   "language": "python",
   "name": "python3"
  },
  "language_info": {
   "codemirror_mode": {
    "name": "ipython",
    "version": 3
   },
   "file_extension": ".py",
   "mimetype": "text/x-python",
   "name": "python",
   "nbconvert_exporter": "python",
   "pygments_lexer": "ipython3",
   "version": "3.13.7"
  }
 },
 "nbformat": 4,
 "nbformat_minor": 5
}
