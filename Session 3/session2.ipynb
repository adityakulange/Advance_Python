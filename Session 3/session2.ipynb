{
 "cells": [
  {
   "cell_type": "markdown",
   "id": "8198ed3b",
   "metadata": {},
   "source": []
  },
  {
   "cell_type": "markdown",
   "id": "da098b83",
   "metadata": {},
   "source": [
    "- two types of function \n",
    "- 1)pre-defined function\n",
    "- 2)user defined function"
   ]
  },
  {
   "cell_type": "code",
   "execution_count": 1,
   "id": "6b314f0d",
   "metadata": {},
   "outputs": [
    {
     "data": {
      "text/plain": [
       "7"
      ]
     },
     "execution_count": 1,
     "metadata": {},
     "output_type": "execute_result"
    }
   ],
   "source": [
    "len(\"ETLHIVE\")"
   ]
  },
  {
   "cell_type": "code",
   "execution_count": 2,
   "id": "eb51dd97",
   "metadata": {},
   "outputs": [
    {
     "data": {
      "text/plain": [
       "8"
      ]
     },
     "execution_count": 2,
     "metadata": {},
     "output_type": "execute_result"
    }
   ],
   "source": [
    "lst=[2,3,4,5,6,7,8,9]\n",
    "len(lst)"
   ]
  },
  {
   "cell_type": "markdown",
   "id": "075dd313",
   "metadata": {},
   "source": [
    "# user defined function "
   ]
  },
  {
   "cell_type": "markdown",
   "id": "16bb2a18",
   "metadata": {},
   "source": [
    "# 1)two methods for creating a function \n",
    " # a)defining a function\n",
    "# b) calling a function"
   ]
  },
  {
   "cell_type": "code",
   "execution_count": 3,
   "id": "ce182788",
   "metadata": {},
   "outputs": [],
   "source": [
    "# def function_name(parameter list):\n",
    "#     logical part"
   ]
  },
  {
   "cell_type": "code",
   "execution_count": 4,
   "id": "fd440384",
   "metadata": {},
   "outputs": [],
   "source": [
    "# defining a function \n",
    "def greet():\n",
    "    print(\"Welcome to etlhive\")"
   ]
  },
  {
   "cell_type": "code",
   "execution_count": 6,
   "id": "70dbb8af",
   "metadata": {},
   "outputs": [
    {
     "name": "stdout",
     "output_type": "stream",
     "text": [
      "Welcome to etlhive\n",
      "Welcome to etlhive\n",
      "Welcome to etlhive\n",
      "Welcome to etlhive\n",
      "Welcome to etlhive\n",
      "Welcome to etlhive\n"
     ]
    }
   ],
   "source": [
    "# calling a function \n",
    "greet()\n",
    "greet()\n",
    "greet()\n",
    "greet()\n",
    "greet()\n",
    "greet()"
   ]
  },
  {
   "cell_type": "code",
   "execution_count": 7,
   "id": "eaee7569",
   "metadata": {},
   "outputs": [
    {
     "name": "stdout",
     "output_type": "stream",
     "text": [
      "Welcome to etlhive\n"
     ]
    }
   ],
   "source": [
    "greet()"
   ]
  },
  {
   "cell_type": "code",
   "execution_count": 8,
   "id": "0c8aeaed",
   "metadata": {},
   "outputs": [],
   "source": [
    "# function with parameter \n",
    "def greet1(name):\n",
    "    print(f\"welcome to ETLHIVE {name}\")"
   ]
  },
  {
   "cell_type": "code",
   "execution_count": 9,
   "id": "fecb4c92",
   "metadata": {},
   "outputs": [
    {
     "name": "stdout",
     "output_type": "stream",
     "text": [
      "welcome to ETLHIVE vishal\n"
     ]
    }
   ],
   "source": [
    "# calling \n",
    "greet1(\"vishal\")"
   ]
  },
  {
   "cell_type": "code",
   "execution_count": 10,
   "id": "6a35e30b",
   "metadata": {},
   "outputs": [
    {
     "name": "stdout",
     "output_type": "stream",
     "text": [
      "welcome to ETLHIVE smith\n"
     ]
    }
   ],
   "source": [
    "greet1(\"smith\")"
   ]
  },
  {
   "cell_type": "code",
   "execution_count": 11,
   "id": "81ab9535",
   "metadata": {},
   "outputs": [],
   "source": [
    "def add(a,b):\n",
    "    print(f\"Addition={a+b}\")"
   ]
  },
  {
   "cell_type": "code",
   "execution_count": 12,
   "id": "2e01dbc8",
   "metadata": {},
   "outputs": [
    {
     "name": "stdout",
     "output_type": "stream",
     "text": [
      "Addition=101\n"
     ]
    }
   ],
   "source": [
    "add(45,56)"
   ]
  },
  {
   "cell_type": "code",
   "execution_count": 13,
   "id": "ba839286",
   "metadata": {},
   "outputs": [
    {
     "name": "stdout",
     "output_type": "stream",
     "text": [
      "Addition=180\n"
     ]
    }
   ],
   "source": [
    "add(90,90)"
   ]
  },
  {
   "cell_type": "code",
   "execution_count": 15,
   "id": "a1fd67cb",
   "metadata": {},
   "outputs": [],
   "source": [
    "# create a function for printing table of any number "
   ]
  },
  {
   "cell_type": "code",
   "execution_count": 24,
   "id": "75daa4fc",
   "metadata": {},
   "outputs": [],
   "source": [
    "def print_table(n):\n",
    "    for i in range(1,11):\n",
    "        print(n*i)"
   ]
  },
  {
   "cell_type": "code",
   "execution_count": 25,
   "id": "305bd111",
   "metadata": {},
   "outputs": [
    {
     "name": "stdout",
     "output_type": "stream",
     "text": [
      "10\n",
      "20\n",
      "30\n",
      "40\n",
      "50\n",
      "60\n",
      "70\n",
      "80\n",
      "90\n",
      "100\n"
     ]
    }
   ],
   "source": [
    "a=10\n",
    "print_table(a)"
   ]
  },
  {
   "cell_type": "code",
   "execution_count": 18,
   "id": "187e9660",
   "metadata": {},
   "outputs": [
    {
     "name": "stdout",
     "output_type": "stream",
     "text": [
      "19\n",
      "38\n",
      "57\n",
      "76\n",
      "95\n",
      "114\n",
      "133\n",
      "152\n",
      "171\n",
      "190\n"
     ]
    }
   ],
   "source": [
    "print_table(19)"
   ]
  },
  {
   "cell_type": "code",
   "execution_count": 21,
   "id": "4e517c14",
   "metadata": {},
   "outputs": [],
   "source": [
    "lst=[3,5,7,8,9,23,45,67]"
   ]
  },
  {
   "cell_type": "code",
   "execution_count": null,
   "id": "3246b60e",
   "metadata": {},
   "outputs": [],
   "source": [
    "def print_square(l):\n",
    "    for i in l:\n",
    "        print(i*i)"
   ]
  },
  {
   "cell_type": "code",
   "execution_count": 23,
   "id": "4aafc82b",
   "metadata": {},
   "outputs": [
    {
     "name": "stdout",
     "output_type": "stream",
     "text": [
      "9\n",
      "25\n",
      "49\n",
      "64\n",
      "81\n",
      "529\n",
      "2025\n",
      "4489\n"
     ]
    }
   ],
   "source": [
    "print_square(lst)"
   ]
  },
  {
   "cell_type": "code",
   "execution_count": 27,
   "id": "3b91a554",
   "metadata": {},
   "outputs": [],
   "source": [
    "# define a function \n",
    "def cal_cube(n):\n",
    "    print(f\"cube of a number {n} is {n*n*n}\")"
   ]
  },
  {
   "cell_type": "code",
   "execution_count": 39,
   "id": "5201c533",
   "metadata": {},
   "outputs": [
    {
     "name": "stdout",
     "output_type": "stream",
     "text": [
      "cube of a number 4 is 64\n"
     ]
    }
   ],
   "source": [
    "# calling a function \n",
    "cal_cube(4)"
   ]
  },
  {
   "cell_type": "code",
   "execution_count": 40,
   "id": "d9e202d2",
   "metadata": {},
   "outputs": [],
   "source": [
    "result"
   ]
  },
  {
   "cell_type": "code",
   "execution_count": 29,
   "id": "a4dbf0fc",
   "metadata": {},
   "outputs": [
    {
     "name": "stdout",
     "output_type": "stream",
     "text": [
      "cube of a number 9 is 729\n"
     ]
    }
   ],
   "source": [
    "cal_cube(9)"
   ]
  },
  {
   "cell_type": "code",
   "execution_count": 32,
   "id": "3e2814c4",
   "metadata": {},
   "outputs": [],
   "source": [
    "# with return \n",
    "def cal_square(n):\n",
    "    return n*n"
   ]
  },
  {
   "cell_type": "code",
   "execution_count": 34,
   "id": "4c859c7e",
   "metadata": {},
   "outputs": [],
   "source": [
    "result=cal_square(5)"
   ]
  },
  {
   "cell_type": "code",
   "execution_count": null,
   "id": "7fe2f13c",
   "metadata": {},
   "outputs": [
    {
     "data": {
      "text/plain": [
       "25"
      ]
     },
     "execution_count": 35,
     "metadata": {},
     "output_type": "execute_result"
    }
   ],
   "source": [
    "re=sult"
   ]
  },
  {
   "cell_type": "code",
   "execution_count": 41,
   "id": "7a62580f",
   "metadata": {},
   "outputs": [],
   "source": [
    "# Write a function in python to calculate sum of all elements inside a list"
   ]
  },
  {
   "cell_type": "code",
   "execution_count": 45,
   "id": "31fb8fc0",
   "metadata": {},
   "outputs": [],
   "source": [
    "lst=[1,2,3,4,5]\n",
    "# 1+2+3+4+5=15\n",
    "# s=0\n",
    "# s=s+i=0+1=1\n",
    "# s=s+i=1+2=3\n",
    "# s=s+i=3+3=6"
   ]
  },
  {
   "cell_type": "code",
   "execution_count": 46,
   "id": "fa528506",
   "metadata": {},
   "outputs": [],
   "source": [
    "def sum_of_element_in_a_list(lst):\n",
    "    s=0\n",
    "    for i in lst:\n",
    "        s=s+i \n",
    "    print(f\"sum of all values in a list is {s}\")"
   ]
  },
  {
   "cell_type": "code",
   "execution_count": 47,
   "id": "11fad237",
   "metadata": {},
   "outputs": [
    {
     "name": "stdout",
     "output_type": "stream",
     "text": [
      "sum of all values in a list is 15\n"
     ]
    }
   ],
   "source": [
    "sum_of_element_in_a_list(lst)"
   ]
  },
  {
   "cell_type": "code",
   "execution_count": 48,
   "id": "a0ca33c4",
   "metadata": {},
   "outputs": [],
   "source": [
    "# Write a function in python to calculate product of all elements inside a list."
   ]
  },
  {
   "cell_type": "code",
   "execution_count": 49,
   "id": "4146e29c",
   "metadata": {},
   "outputs": [],
   "source": [
    "# Write a function in python to calculate hypotenuse of a right angled triangle.\n",
    "# (AC)^2=(AB)^2+(BC)^2\n",
    "# c^2=a^2+b^2\n",
    "# c=(a^2+b^2)^0.5\n",
    "# 4,5"
   ]
  },
  {
   "cell_type": "code",
   "execution_count": 50,
   "id": "17273e23",
   "metadata": {},
   "outputs": [],
   "source": [
    "def cal_hypotaneous(a,b):\n",
    "    hypotenuse=(a**2+b**2)**0.5\n",
    "    print(\"Hypotaneous of triangle=\",hypotenuse)"
   ]
  },
  {
   "cell_type": "code",
   "execution_count": 51,
   "id": "da11c9cc",
   "metadata": {},
   "outputs": [
    {
     "name": "stdout",
     "output_type": "stream",
     "text": [
      "Hypotaneous of triangle= 6.4031242374328485\n"
     ]
    }
   ],
   "source": [
    "cal_hypotaneous(4,5)"
   ]
  },
  {
   "cell_type": "code",
   "execution_count": 52,
   "id": "22a2a7a3",
   "metadata": {},
   "outputs": [],
   "source": [
    "# Write a function in python which takes 3 sides and determines whether 3 sides \n",
    "# form triangle or not ."
   ]
  },
  {
   "cell_type": "code",
   "execution_count": 53,
   "id": "f3eaeaa9",
   "metadata": {},
   "outputs": [],
   "source": [
    "def verify_triangle(a,b,c):\n",
    "    if a<b+c and b<a+c and c<a+b:\n",
    "        print(\"It is forming a triangle\")\n",
    "    else:\n",
    "        print(\"It is not forming a triangle\")"
   ]
  },
  {
   "cell_type": "code",
   "execution_count": 54,
   "id": "e4f81b4a",
   "metadata": {},
   "outputs": [
    {
     "name": "stdout",
     "output_type": "stream",
     "text": [
      "It is forming a triangle\n"
     ]
    }
   ],
   "source": [
    "verify_triangle(4,5,6)"
   ]
  },
  {
   "cell_type": "code",
   "execution_count": 55,
   "id": "ba405d45",
   "metadata": {},
   "outputs": [],
   "source": [
    "# Write a function in python that calculates area of triangle when 3 sides are given."
   ]
  },
  {
   "cell_type": "code",
   "execution_count": 59,
   "id": "9e36ce1e",
   "metadata": {},
   "outputs": [],
   "source": [
    "def cal_area(a,b,c):\n",
    "    s=(a+b+c)/2\n",
    "    area=(s*(s-a)*(s-b)*(s-c))**0.5\n",
    "    print(f\"Area of triangle is {area}\")\n"
   ]
  },
  {
   "cell_type": "code",
   "execution_count": 60,
   "id": "52b7459d",
   "metadata": {},
   "outputs": [
    {
     "name": "stdout",
     "output_type": "stream",
     "text": [
      "Area of triangle is 87.74964387392122\n"
     ]
    }
   ],
   "source": [
    "cal_area(15,17,12)"
   ]
  },
  {
   "cell_type": "code",
   "execution_count": null,
   "id": "5f40318c",
   "metadata": {},
   "outputs": [],
   "source": []
  }
 ],
 "metadata": {
  "kernelspec": {
   "display_name": "Python 3",
   "language": "python",
   "name": "python3"
  },
  "language_info": {
   "codemirror_mode": {
    "name": "ipython",
    "version": 3
   },
   "file_extension": ".py",
   "mimetype": "text/x-python",
   "name": "python",
   "nbconvert_exporter": "python",
   "pygments_lexer": "ipython3",
   "version": "3.13.7"
  }
 },
 "nbformat": 4,
 "nbformat_minor": 5
}
