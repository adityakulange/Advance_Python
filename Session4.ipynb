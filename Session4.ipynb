{
 "cells": [
  {
   "cell_type": "markdown",
   "id": "a15582b1",
   "metadata": {},
   "source": [
    "# *args, **kwargs"
   ]
  },
  {
   "cell_type": "code",
   "execution_count": 16,
   "id": "0aa622d1",
   "metadata": {},
   "outputs": [],
   "source": [
    "# calculate area of rectangle"
   ]
  },
  {
   "cell_type": "code",
   "execution_count": 17,
   "id": "ce0d4437",
   "metadata": {},
   "outputs": [],
   "source": [
    "def area_of_rect(l,b):\n",
    "    aor=l*b\n",
    "    print(\"Area of rectangle=\",aor)"
   ]
  },
  {
   "cell_type": "code",
   "execution_count": 18,
   "id": "ed334806",
   "metadata": {},
   "outputs": [
    {
     "name": "stdout",
     "output_type": "stream",
     "text": [
      "Area of rectangle= 12\n"
     ]
    }
   ],
   "source": [
    "area_of_rect(3,4)"
   ]
  },
  {
   "cell_type": "code",
   "execution_count": 19,
   "id": "8500686d",
   "metadata": {},
   "outputs": [
    {
     "name": "stdout",
     "output_type": "stream",
     "text": [
      "Area of rectangle= 300\n"
     ]
    }
   ],
   "source": [
    "area_of_rect(10,30)"
   ]
  },
  {
   "cell_type": "code",
   "execution_count": 20,
   "id": "21c75b5f",
   "metadata": {},
   "outputs": [],
   "source": [
    "# *args"
   ]
  },
  {
   "cell_type": "code",
   "execution_count": 21,
   "id": "96a1106d",
   "metadata": {},
   "outputs": [],
   "source": [
    "# sum of all values present in a parameter"
   ]
  },
  {
   "cell_type": "code",
   "execution_count": 22,
   "id": "beb305fe",
   "metadata": {},
   "outputs": [],
   "source": [
    "def cal_sum(*args):  #(2,3,4)\n",
    "    sum=0\n",
    "    for i in args:\n",
    "        sum=sum+i  #sum=0+2=2+3=5+4=9\n",
    "    return f\"Sum of all values= {sum}\""
   ]
  },
  {
   "cell_type": "code",
   "execution_count": 23,
   "id": "d37eb7eb",
   "metadata": {},
   "outputs": [
    {
     "data": {
      "text/plain": [
       "'Sum of all values= 9'"
      ]
     },
     "execution_count": 23,
     "metadata": {},
     "output_type": "execute_result"
    }
   ],
   "source": [
    "cal_sum(2,3,4)"
   ]
  },
  {
   "cell_type": "code",
   "execution_count": 25,
   "id": "dd1a2bb9",
   "metadata": {},
   "outputs": [
    {
     "data": {
      "text/plain": [
       "'Sum of all values= 82'"
      ]
     },
     "execution_count": 25,
     "metadata": {},
     "output_type": "execute_result"
    }
   ],
   "source": [
    "cal_sum(4,5,6,7,10,20,30)"
   ]
  },
  {
   "cell_type": "code",
   "execution_count": 26,
   "id": "d92a986f",
   "metadata": {},
   "outputs": [],
   "source": [
    "lst=[4,5,6,10,45,87,57]"
   ]
  },
  {
   "cell_type": "code",
   "execution_count": 27,
   "id": "34c1bae1",
   "metadata": {},
   "outputs": [
    {
     "data": {
      "text/plain": [
       "'Sum of all values= 214'"
      ]
     },
     "execution_count": 27,
     "metadata": {},
     "output_type": "execute_result"
    }
   ],
   "source": [
    "# list unpacking\n",
    "cal_sum(*lst)"
   ]
  },
  {
   "cell_type": "code",
   "execution_count": 28,
   "id": "2df8acb9",
   "metadata": {},
   "outputs": [],
   "source": [
    "# **kwargs"
   ]
  },
  {
   "cell_type": "code",
   "execution_count": 30,
   "id": "fa669a10",
   "metadata": {},
   "outputs": [],
   "source": [
    "def display_data(**kwargs):  #{\"key\":\"values\"}\n",
    "    print(f\"values: {kwargs}\")"
   ]
  },
  {
   "cell_type": "code",
   "execution_count": 31,
   "id": "d6d0fdd3",
   "metadata": {},
   "outputs": [
    {
     "name": "stdout",
     "output_type": "stream",
     "text": [
      "values: {'name': 'Aditya', 'age': 23, 'salary': 50000}\n"
     ]
    }
   ],
   "source": [
    "display_data(name=\"Aditya\", age=23, salary=50000)"
   ]
  },
  {
   "cell_type": "code",
   "execution_count": 66,
   "id": "0b5ac565",
   "metadata": {},
   "outputs": [],
   "source": [
    "menu={\n",
    "    \"pizza\":250,\n",
    "    \"maggie\":50,\n",
    "    \"noodles\":199,\n",
    "    \"burger\":70,\n",
    "    \"coffee\":50,\n",
    "    \"tea\":10\n",
    "}"
   ]
  },
  {
   "cell_type": "code",
   "execution_count": 67,
   "id": "e869b102",
   "metadata": {},
   "outputs": [
    {
     "data": {
      "text/plain": [
       "dict_values([250, 50, 199, 70, 50, 10])"
      ]
     },
     "execution_count": 67,
     "metadata": {},
     "output_type": "execute_result"
    }
   ],
   "source": [
    "menu.values()"
   ]
  },
  {
   "cell_type": "code",
   "execution_count": 68,
   "id": "a45bfbd2",
   "metadata": {},
   "outputs": [
    {
     "data": {
      "text/plain": [
       "dict_keys(['pizza', 'maggie', 'noodles', 'burger', 'coffee', 'tea'])"
      ]
     },
     "execution_count": 68,
     "metadata": {},
     "output_type": "execute_result"
    }
   ],
   "source": [
    "menu.keys()"
   ]
  },
  {
   "cell_type": "code",
   "execution_count": 69,
   "id": "dac19d1b",
   "metadata": {},
   "outputs": [
    {
     "data": {
      "text/plain": [
       "250"
      ]
     },
     "execution_count": 69,
     "metadata": {},
     "output_type": "execute_result"
    }
   ],
   "source": [
    "menu.get(\"pizza\")"
   ]
  },
  {
   "cell_type": "code",
   "execution_count": 70,
   "id": "599b55f7",
   "metadata": {},
   "outputs": [
    {
     "data": {
      "text/plain": [
       "70"
      ]
     },
     "execution_count": 70,
     "metadata": {},
     "output_type": "execute_result"
    }
   ],
   "source": [
    "menu.get(\"burger\")"
   ]
  },
  {
   "cell_type": "code",
   "execution_count": 71,
   "id": "7a38375d",
   "metadata": {},
   "outputs": [],
   "source": [
    "def menu_info(**kwargs):\n",
    "    total_amt=0\n",
    "    for item, amount in kwargs.items():\n",
    "        print(f\"Item: {item}, Amount: {amount}\")\n",
    "        print(\"--------------------------------------\")\n",
    "        total_amt=total_amt+amount\n",
    "    return f\"Total Amount= {total_amt}\"\n"
   ]
  },
  {
   "cell_type": "code",
   "execution_count": 72,
   "id": "b0538ade",
   "metadata": {},
   "outputs": [
    {
     "name": "stdout",
     "output_type": "stream",
     "text": [
      "Item: pizza, Amount: 250\n",
      "--------------------------------------\n",
      "Item: maggie, Amount: 50\n",
      "--------------------------------------\n",
      "Item: noodles, Amount: 199\n",
      "--------------------------------------\n",
      "Item: burger, Amount: 70\n",
      "--------------------------------------\n",
      "Item: coffee, Amount: 50\n",
      "--------------------------------------\n",
      "Item: tea, Amount: 10\n",
      "--------------------------------------\n"
     ]
    },
    {
     "data": {
      "text/plain": [
       "'Total Amount= 629'"
      ]
     },
     "execution_count": 72,
     "metadata": {},
     "output_type": "execute_result"
    }
   ],
   "source": [
    "menu_info(**menu)"
   ]
  },
  {
   "cell_type": "code",
   "execution_count": 74,
   "id": "99446394",
   "metadata": {},
   "outputs": [
    {
     "data": {
      "text/plain": [
       "140"
      ]
     },
     "execution_count": 74,
     "metadata": {},
     "output_type": "execute_result"
    }
   ],
   "source": [
    "menu.get(\"burger\")*2"
   ]
  },
  {
   "cell_type": "code",
   "execution_count": 81,
   "id": "0da38b69",
   "metadata": {},
   "outputs": [],
   "source": [
    "def restaurant_bill(**kwargs):\n",
    "    bill=0\n",
    "    for item, qty in kwargs.items():\n",
    "        amt=menu.get(item)*qty\n",
    "        bill=bill+amt\n",
    "        print(f\"Item: {item}, Quantity: {qty}, Amount: {amt}\")\n",
    "    return f\"Total bill= {bill}\""
   ]
  },
  {
   "cell_type": "code",
   "execution_count": 82,
   "id": "11216c81",
   "metadata": {},
   "outputs": [
    {
     "name": "stdout",
     "output_type": "stream",
     "text": [
      "Item: burger, Quantity: 2, Amount: 140\n",
      "Item: coffee, Quantity: 3, Amount: 150\n"
     ]
    },
    {
     "data": {
      "text/plain": [
       "'Total bill= 290'"
      ]
     },
     "execution_count": 82,
     "metadata": {},
     "output_type": "execute_result"
    }
   ],
   "source": [
    "restaurant_bill(burger=2,coffee=3)"
   ]
  },
  {
   "cell_type": "markdown",
   "id": "bbac2d94",
   "metadata": {},
   "source": [
    "# Generator function"
   ]
  },
  {
   "cell_type": "code",
   "execution_count": 83,
   "id": "967222f4",
   "metadata": {},
   "outputs": [],
   "source": [
    "# 0,1,1,2,3,5,8,13,21"
   ]
  },
  {
   "cell_type": "code",
   "execution_count": 86,
   "id": "13b73882",
   "metadata": {},
   "outputs": [
    {
     "name": "stdout",
     "output_type": "stream",
     "text": [
      "1\n",
      "2\n",
      "3\n",
      "4\n",
      "5\n",
      "6\n",
      "7\n",
      "8\n",
      "9\n",
      "10\n"
     ]
    }
   ],
   "source": [
    "# while\n",
    "# 1) initialization\n",
    "# 2) condition checking\n",
    "# 3) increment/ decrement\n",
    "i=1\n",
    "while i<=10:\n",
    "    print(i)\n",
    "    i=i+1"
   ]
  },
  {
   "cell_type": "code",
   "execution_count": 89,
   "id": "26d173ee",
   "metadata": {},
   "outputs": [],
   "source": [
    "i=1\n",
    "sum=0\n",
    "while i<=10:\n",
    "    sum=sum+i\n",
    "    i=i+1"
   ]
  },
  {
   "cell_type": "code",
   "execution_count": 90,
   "id": "fb76ddee",
   "metadata": {},
   "outputs": [
    {
     "data": {
      "text/plain": [
       "55"
      ]
     },
     "execution_count": 90,
     "metadata": {},
     "output_type": "execute_result"
    }
   ],
   "source": [
    "sum"
   ]
  },
  {
   "cell_type": "code",
   "execution_count": 91,
   "id": "5820a763",
   "metadata": {},
   "outputs": [],
   "source": [
    "# print table of any number using while loop"
   ]
  },
  {
   "cell_type": "code",
   "execution_count": 2,
   "id": "2565e930",
   "metadata": {},
   "outputs": [
    {
     "name": "stdout",
     "output_type": "stream",
     "text": [
      "5\n",
      "10\n",
      "15\n",
      "20\n",
      "25\n",
      "30\n",
      "35\n",
      "40\n",
      "45\n",
      "50\n"
     ]
    }
   ],
   "source": [
    "i=1\n",
    "n=int(input(\"Enter a number\"))\n",
    "while i<=10:\n",
    "    print(n*i)\n",
    "    i=i+1"
   ]
  },
  {
   "cell_type": "code",
   "execution_count": 3,
   "id": "e8605620",
   "metadata": {},
   "outputs": [],
   "source": [
    "# fabany series\n",
    "# 0,1,1,2,3,5,8,13,21"
   ]
  },
  {
   "cell_type": "code",
   "execution_count": 4,
   "id": "f9e16e10",
   "metadata": {},
   "outputs": [
    {
     "name": "stdout",
     "output_type": "stream",
     "text": [
      "0\n",
      "1\n",
      "1\n",
      "2\n",
      "3\n",
      "5\n",
      "8\n",
      "13\n"
     ]
    }
   ],
   "source": [
    "i=1\n",
    "a=0\n",
    "b=1\n",
    "c=0\n",
    "while i<=8:\n",
    "    print(c)\n",
    "    a=b\n",
    "    b=c\n",
    "    c=a+b\n",
    "    i=i+1"
   ]
  },
  {
   "cell_type": "code",
   "execution_count": 5,
   "id": "1a30b79e",
   "metadata": {},
   "outputs": [],
   "source": [
    "# generator \n",
    "# 1) yield    # statement return or output produce\n",
    "# 2) next"
   ]
  },
  {
   "cell_type": "code",
   "execution_count": 8,
   "id": "bfaa41cc",
   "metadata": {},
   "outputs": [],
   "source": [
    "def fab_number():\n",
    "    a,b=0,1\n",
    "    while True:\n",
    "        yield a\n",
    "        a,b=b,a+b\n"
   ]
  },
  {
   "cell_type": "code",
   "execution_count": 9,
   "id": "dc7f0e89",
   "metadata": {},
   "outputs": [],
   "source": [
    "result=fab_number()"
   ]
  },
  {
   "cell_type": "code",
   "execution_count": 12,
   "id": "45b33a17",
   "metadata": {},
   "outputs": [
    {
     "name": "stdout",
     "output_type": "stream",
     "text": [
      "0\n",
      "1\n",
      "1\n",
      "2\n",
      "3\n"
     ]
    }
   ],
   "source": [
    "for i in range(5):\n",
    "    print(next(result))"
   ]
  },
  {
   "cell_type": "code",
   "execution_count": null,
   "id": "db707822",
   "metadata": {},
   "outputs": [],
   "source": []
  }
 ],
 "metadata": {
  "kernelspec": {
   "display_name": "Python 3",
   "language": "python",
   "name": "python3"
  },
  "language_info": {
   "codemirror_mode": {
    "name": "ipython",
    "version": 3
   },
   "file_extension": ".py",
   "mimetype": "text/x-python",
   "name": "python",
   "nbconvert_exporter": "python",
   "pygments_lexer": "ipython3",
   "version": "3.13.7"
  }
 },
 "nbformat": 4,
 "nbformat_minor": 5
}
