{
 "cells": [
  {
   "cell_type": "markdown",
   "id": "57e1c393",
   "metadata": {},
   "source": [
    "# interest=(prt)/100"
   ]
  },
  {
   "cell_type": "code",
   "execution_count": 1,
   "id": "a01111d3",
   "metadata": {},
   "outputs": [],
   "source": [
    "# defining a function\n",
    "\n",
    "def cal_interest(p,r,t):  #arguments\n",
    "    interest=(p*r*t)/100\n",
    "    print(\"Interest=\",interest)\n"
   ]
  },
  {
   "cell_type": "code",
   "execution_count": 2,
   "id": "2364f912",
   "metadata": {},
   "outputs": [
    {
     "name": "stdout",
     "output_type": "stream",
     "text": [
      "Interest= 25000.0\n"
     ]
    }
   ],
   "source": [
    "# calling a function\n",
    "cal_interest(100000,5,5)  #parameters"
   ]
  },
  {
   "cell_type": "code",
   "execution_count": 3,
   "id": "41b5b9db",
   "metadata": {},
   "outputs": [
    {
     "name": "stdout",
     "output_type": "stream",
     "text": [
      "Interest= 1000.0\n"
     ]
    }
   ],
   "source": [
    "cal_interest(50000,2,1)"
   ]
  },
  {
   "cell_type": "code",
   "execution_count": 4,
   "id": "04e29267",
   "metadata": {},
   "outputs": [],
   "source": [
    "# create a function for prinying table of any number\n",
    "\n",
    "def print_table(n):\n",
    "    for i in range (1,11):\n",
    "        print(n*i)"
   ]
  },
  {
   "cell_type": "code",
   "execution_count": 5,
   "id": "2289c5fd",
   "metadata": {},
   "outputs": [
    {
     "name": "stdout",
     "output_type": "stream",
     "text": [
      "5\n",
      "10\n",
      "15\n",
      "20\n",
      "25\n",
      "30\n",
      "35\n",
      "40\n",
      "45\n",
      "50\n"
     ]
    }
   ],
   "source": [
    "print_table(5)"
   ]
  },
  {
   "cell_type": "code",
   "execution_count": 6,
   "id": "dd962232",
   "metadata": {},
   "outputs": [],
   "source": [
    "# *args = This will act like a tuple inside a function\n",
    "# used for accepting multiple parameter in one argument"
   ]
  },
  {
   "cell_type": "code",
   "execution_count": 7,
   "id": "424ce460",
   "metadata": {},
   "outputs": [],
   "source": [
    "def information(*args):\n",
    "    print(f\"values:{args}\")\n",
    "    print(f\"values:{type(args)}\")\n",
    "    for i in args:\n",
    "        print(i)\n",
    "        "
   ]
  },
  {
   "cell_type": "code",
   "execution_count": 8,
   "id": "ac739087",
   "metadata": {},
   "outputs": [
    {
     "name": "stdout",
     "output_type": "stream",
     "text": [
      "values:('Aditya', 'Kulange', '17-12-2002', 24)\n",
      "values:<class 'tuple'>\n",
      "Aditya\n",
      "Kulange\n",
      "17-12-2002\n",
      "24\n"
     ]
    }
   ],
   "source": [
    "information('Aditya','Kulange','17-12-2002',24)"
   ]
  },
  {
   "cell_type": "code",
   "execution_count": 9,
   "id": "c4cb7c38",
   "metadata": {},
   "outputs": [],
   "source": [
    "# return multiplication of a number\n",
    "# 2,4,6,3=144"
   ]
  },
  {
   "cell_type": "code",
   "execution_count": 10,
   "id": "ee042548",
   "metadata": {},
   "outputs": [],
   "source": [
    "def return_multiplication(*args):\n",
    "    m=1\n",
    "    for i in args:\n",
    "        m=m*i\n",
    "    return m"
   ]
  },
  {
   "cell_type": "code",
   "execution_count": 11,
   "id": "462a8c19",
   "metadata": {},
   "outputs": [
    {
     "data": {
      "text/plain": [
       "20"
      ]
     },
     "execution_count": 11,
     "metadata": {},
     "output_type": "execute_result"
    }
   ],
   "source": [
    "return_multiplication(4,5)"
   ]
  },
  {
   "cell_type": "code",
   "execution_count": 12,
   "id": "1e25d4da",
   "metadata": {},
   "outputs": [
    {
     "data": {
      "text/plain": [
       "1353024"
      ]
     },
     "execution_count": 12,
     "metadata": {},
     "output_type": "execute_result"
    }
   ],
   "source": [
    "return_multiplication(24,54,87,12)"
   ]
  },
  {
   "cell_type": "code",
   "execution_count": 13,
   "id": "cc97c32a",
   "metadata": {},
   "outputs": [],
   "source": [
    "lst=[1,2,3,4,5,6,7,8]"
   ]
  },
  {
   "cell_type": "code",
   "execution_count": 14,
   "id": "8e06fd3b",
   "metadata": {},
   "outputs": [
    {
     "data": {
      "text/plain": [
       "40320"
      ]
     },
     "execution_count": 14,
     "metadata": {},
     "output_type": "execute_result"
    }
   ],
   "source": [
    "return_multiplication(*lst)"
   ]
  },
  {
   "cell_type": "code",
   "execution_count": 19,
   "id": "b21e8d93",
   "metadata": {},
   "outputs": [],
   "source": [
    "cart=[\n",
    "    ('laptop',50000,1),\n",
    "    ('keyboard',6000,2),\n",
    "    ('mouse',200,5),\n",
    "    ('mousepad',150,5)\n",
    "]"
   ]
  },
  {
   "cell_type": "code",
   "execution_count": 20,
   "id": "421f5bed",
   "metadata": {},
   "outputs": [],
   "source": [
    "def print_info(*args):\n",
    "    total_price=0\n",
    "    # print information\n",
    "    for name,price,qty in args:\n",
    "        print(f\"Name:{name}, Price:{price}, Quantity:{qty}\")\n",
    "        print(\"----------------------------------------------------\")\n",
    "        total_price=total_price+price\n",
    "    return f\"Total price={total_price}\""
   ]
  },
  {
   "cell_type": "code",
   "execution_count": 21,
   "id": "55a64487",
   "metadata": {},
   "outputs": [
    {
     "name": "stdout",
     "output_type": "stream",
     "text": [
      "Name:laptop, Price:50000, Quantity:1\n",
      "----------------------------------------------------\n",
      "Name:keyboard, Price:6000, Quantity:2\n",
      "----------------------------------------------------\n",
      "Name:mouse, Price:200, Quantity:5\n",
      "----------------------------------------------------\n",
      "Name:mousepad, Price:150, Quantity:5\n",
      "----------------------------------------------------\n"
     ]
    },
    {
     "data": {
      "text/plain": [
       "'Total price=56350'"
      ]
     },
     "execution_count": 21,
     "metadata": {},
     "output_type": "execute_result"
    }
   ],
   "source": [
    "print_info(*cart)"
   ]
  },
  {
   "cell_type": "code",
   "execution_count": 22,
   "id": "122a4d48",
   "metadata": {},
   "outputs": [],
   "source": [
    "cart=[\n",
    "    ('Aditya',24,50000),\n",
    "    ('Sujata',21,30000),\n",
    "    ('Mayuri',22,35000)\n",
    "]"
   ]
  },
  {
   "cell_type": "code",
   "execution_count": 23,
   "id": "f972b250",
   "metadata": {},
   "outputs": [],
   "source": [
    "def employee_info(*args):\n",
    "    total_salary=0\n",
    "    for name, age, salary in args:\n",
    "        print(f\"Name:{name}, Age:{age}, Salary:{salary}\")\n",
    "        print(\"---------------------------------------------\")\n",
    "        total_salary=total_salary+salary\n",
    "    return f\"Total Salary={total_salary}\"\n"
   ]
  },
  {
   "cell_type": "code",
   "execution_count": 24,
   "id": "d5ac2b92",
   "metadata": {},
   "outputs": [
    {
     "name": "stdout",
     "output_type": "stream",
     "text": [
      "Name:Aditya, Age:24, Salary:50000\n",
      "---------------------------------------------\n",
      "Name:Sujata, Age:21, Salary:30000\n",
      "---------------------------------------------\n",
      "Name:Mayuri, Age:22, Salary:35000\n",
      "---------------------------------------------\n"
     ]
    },
    {
     "data": {
      "text/plain": [
       "'Total Salary=115000'"
      ]
     },
     "execution_count": 24,
     "metadata": {},
     "output_type": "execute_result"
    }
   ],
   "source": [
    "employee_info(*cart)"
   ]
  },
  {
   "cell_type": "code",
   "execution_count": null,
   "id": "97d77a44",
   "metadata": {},
   "outputs": [],
   "source": [
    "# *args = act as a tuple\n",
    "# **kwargs = act as a dictionery"
   ]
  },
  {
   "cell_type": "code",
   "execution_count": 27,
   "id": "e9fec15e",
   "metadata": {},
   "outputs": [],
   "source": [
    "def display(**kwargs):\n",
    "    print(f\"values:{kwargs}\")\n",
    "    for key, value in kwargs.items():\n",
    "        print(f\"Key={key}\\nvalue={value}\")"
   ]
  },
  {
   "cell_type": "code",
   "execution_count": 28,
   "id": "52fa077c",
   "metadata": {},
   "outputs": [
    {
     "name": "stdout",
     "output_type": "stream",
     "text": [
      "values:{'name': 'Aditya', 'job_role': 'fresher'}\n",
      "Key=name\n",
      "value=Aditya\n",
      "Key=job_role\n",
      "value=fresher\n"
     ]
    }
   ],
   "source": [
    "display(name=\"Aditya\", job_role=\"fresher\")"
   ]
  },
  {
   "cell_type": "code",
   "execution_count": 29,
   "id": "7c3300a2",
   "metadata": {},
   "outputs": [],
   "source": [
    "d={\n",
    "    \"empid\":1,\n",
    "    \"empname\":\"Tanmay\",\n",
    "    \"age\":24,\n",
    "    \"email\":\"adityakulange1717@gmail.com\"\n",
    "}"
   ]
  },
  {
   "cell_type": "code",
   "execution_count": 30,
   "id": "076a20a2",
   "metadata": {},
   "outputs": [
    {
     "name": "stdout",
     "output_type": "stream",
     "text": [
      "values:{'empid': 1, 'empname': 'Tanmay', 'age': 24, 'email': 'adityakulange1717@gmail.com'}\n",
      "Key=empid\n",
      "value=1\n",
      "Key=empname\n",
      "value=Tanmay\n",
      "Key=age\n",
      "value=24\n",
      "Key=email\n",
      "value=adityakulange1717@gmail.com\n"
     ]
    }
   ],
   "source": [
    "display(**d)"
   ]
  },
  {
   "cell_type": "code",
   "execution_count": 31,
   "id": "aadb10ac",
   "metadata": {},
   "outputs": [],
   "source": [
    "# lambda function = used for small calculation"
   ]
  },
  {
   "cell_type": "code",
   "execution_count": 35,
   "id": "98b69280",
   "metadata": {},
   "outputs": [],
   "source": [
    "add=lambda a,b:a+b"
   ]
  },
  {
   "cell_type": "code",
   "execution_count": 36,
   "id": "75ab6e79",
   "metadata": {},
   "outputs": [
    {
     "data": {
      "text/plain": [
       "10"
      ]
     },
     "execution_count": 36,
     "metadata": {},
     "output_type": "execute_result"
    }
   ],
   "source": [
    "add(4,6)"
   ]
  },
  {
   "cell_type": "code",
   "execution_count": 37,
   "id": "ae7af0b0",
   "metadata": {},
   "outputs": [
    {
     "data": {
      "text/plain": [
       "55"
      ]
     },
     "execution_count": 37,
     "metadata": {},
     "output_type": "execute_result"
    }
   ],
   "source": [
    "add(22,33)"
   ]
  },
  {
   "cell_type": "code",
   "execution_count": 38,
   "id": "929fb8f9",
   "metadata": {},
   "outputs": [],
   "source": [
    "add=lambda a:a*a"
   ]
  },
  {
   "cell_type": "code",
   "execution_count": 39,
   "id": "b5ebd250",
   "metadata": {},
   "outputs": [
    {
     "data": {
      "text/plain": [
       "25"
      ]
     },
     "execution_count": 39,
     "metadata": {},
     "output_type": "execute_result"
    }
   ],
   "source": [
    "add(5)"
   ]
  },
  {
   "cell_type": "code",
   "execution_count": 41,
   "id": "ba07e2d6",
   "metadata": {},
   "outputs": [],
   "source": [
    "add=lambda a:a*a*a"
   ]
  },
  {
   "cell_type": "code",
   "execution_count": 42,
   "id": "d32589b8",
   "metadata": {},
   "outputs": [
    {
     "data": {
      "text/plain": [
       "8"
      ]
     },
     "execution_count": 42,
     "metadata": {},
     "output_type": "execute_result"
    }
   ],
   "source": [
    "add(2)"
   ]
  },
  {
   "cell_type": "code",
   "execution_count": null,
   "id": "41f2e25a",
   "metadata": {},
   "outputs": [],
   "source": []
  }
 ],
 "metadata": {
  "kernelspec": {
   "display_name": "Python 3",
   "language": "python",
   "name": "python3"
  },
  "language_info": {
   "codemirror_mode": {
    "name": "ipython",
    "version": 3
   },
   "file_extension": ".py",
   "mimetype": "text/x-python",
   "name": "python",
   "nbconvert_exporter": "python",
   "pygments_lexer": "ipython3",
   "version": "3.13.7"
  }
 },
 "nbformat": 4,
 "nbformat_minor": 5
}
